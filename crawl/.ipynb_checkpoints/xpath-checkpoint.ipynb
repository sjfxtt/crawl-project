{
 "cells": [
  {
   "cell_type": "code",
   "execution_count": 49,
   "metadata": {},
   "outputs": [],
   "source": [
    "#导入工具\n",
    "import requests\n",
    "res = requests.get(\"http://www.pearvideo.com/category_8\")"
   ]
  },
  {
   "cell_type": "code",
   "execution_count": 2,
   "metadata": {},
   "outputs": [
    {
     "data": {
      "text/plain": [
       "<Response [200]>"
      ]
     },
     "execution_count": 2,
     "metadata": {},
     "output_type": "execute_result"
    }
   ],
   "source": [
    "res"
   ]
  },
  {
   "cell_type": "markdown",
   "metadata": {},
   "source": [
    "### 响应体"
   ]
  },
  {
   "cell_type": "code",
   "execution_count": 3,
   "metadata": {},
   "outputs": [
    {
     "data": {
      "text/plain": [
       "'<!DOCTYPE HTML>\\n<html>\\n<head>\\n<meta http-equiv=\"Content-Type\" content=\"text/html; charset=utf-8\" />\\n<meta http-equiv=\"x-dns-prefetch-control\" content=\"on\" />\\n<link rel=\"dns-prefetch\" href=\"//page.pearvideo.com\" />\\n<link rel=\"dns-prefetch\" href=\"//g.alicdn.com\" />\\n<link rel=\"dns-prefetch\" href=\"//cdn.bootcss.com\" />\\n<link rel=\"dns-prefetch\" href=\"//static.lkme.cc\" />\\n<link rel=\"dns-prefetch\" href=\"//v.trustutn.org\">\\n<meta http-equiv=\"x-ua-compatible\" content=\"IE=edge,chrome=1\" />\\n<meta name=\"renderer\" content=\"webkit\" />\\n<meta name=\"viewport\" content=\"width=device-width, initial-scale=1.0, minimum-scale=0.5, maximum-scale=3.0, user-scalable=yes\" />\\n<meta http-equiv=\"content-language\" content=\"zh-CN\" /><meta name=\"Keywords\" content=\"科技热点视频,科技资讯,最新科技新闻\" />\\n<meta name=\"Description\" content=\"梨视频是中国领先的资讯类短视频生产者,为你提供科技热点视频,科技资讯,最新科技新闻相关短视频,更多精彩请关注梨视频官网。\" />\\n<title>科技热点资讯短视频_科技热点新闻-梨视频官网-Pear Video</title>\\n<meta name=\"applicable-device\" content=\"pc,mobile\" />\\n<link href=\"//page.pearvideo.com/webres/img/logo300.png?v=4.69\" sizes=\"114x114\" rel=\"apple-touch-icon\">\\n<link rel=\"icon\" href=\"//page.pearvideo.com/webres/img/favicon.ico\" />\\n<link rel=\"stylesheet\" type=\"text/css\" href=\"//page.pearvideo.com/webres/v4/css/style.css?v=4.69\"/>\\n<link rel=\"stylesheet\" type=\"text/css\" href=\"//page.pearvideo.com/webres/v4/css/login.css?v=4.69\"/>\\n<script type=\"text/javascript\" src=\"//page.pearvideo.com/webres/js/jquery.js\"></script>\\n<script type=\"text/javascript\">\\nvar islogin=false,myMobile=\"\";\\n</script>\\n<script type=\"text/javascript\" src=\"//page.pearvideo.com/webres/v4/js/cm.js?v=4.69\"></script>\\n<script type=\"text/javascript\" src=\"//page.pearvideo.com/webres/v4/js/login.js?v=4.69\"></script>\\n<style>\\n.head-nav{background-color: #e60000;}\\n.nav-logo{position: relative;margin-left: 95px;}\\n.nav-logo:before{content: \"\";position:absolute;right:100%;top:0;z-index:0;width:95px;height:60px;background: url(//page.pearvideo.com/webres/v4/img/logo_70th_anniversary.png) no-repeat;background-size: auto 100%;}\\n.head-banner{left: 225px;}\\n@media only screen and (min-width: 992px){\\n.head-banner li.nav a.menu,\\n.head-banner .head-more-bt{color: #fff;}\\n.head-banner li.current a.menu {color: #ffd100;}\\n}\\n.nav-mlogo {width: 205px;}\\n.nav-mlogo:after{content: \"\";position:absolute;right:74px;top:0;z-index:0;width:95px;height:60px;background: url(//page.pearvideo.com/webres/v4/img/logo_70th_anniversary.png) no-repeat;background-size: auto 100%;}\\n@media only screen and (max-width: 759px) and (min-width: 320px){\\n.nav-mlogo {width: 176px;}\\n.nav-mlogo:after{right:76px;width:66px;height:54px;background-position: left center;background-size: auto 42px;}\\n}\\n</style><link rel=\"stylesheet\" type=\"text/css\" href=\"//page.pearvideo.com/webres/v4/css/list.css?v=4.69\"/>\\n</head>\\n<body>\\n<div class=\"head\">\\n<div class=\"head-nav hdfloat\">\\n    <div class=\"nav-bd pd050\">\\n        <div class=\"nav-lt\" id=\"navbar\">\\n            <div class=\"nav-mlogo\">\\n                <div class=\"open-bar\" id=\"pull_btn\">\\n                    <span class=\"lines\"></span>\\n                </div>\\n\\t\\t<a class=\"mlogo-link\" href=\"/\"></a>\\n            </div>\\n            <div class=\"nav-logo pcshow\"><a title=\"梨视频\" href=\"/\"><img alt=\"梨视频\" src=\"//page.pearvideo.com/webres/img/logo.png\"></a></div>\\n            <ul class=\"head-banner\">\\n                <li  class=\"nav\" ><a class=\"menu\" href=\"/\">首页</a></li>\\n                <li  class=\"nav\" ><a class=\"menu\" href=\"live\">直播</a></li>\\n                <li  class=\"nav \" ><a class=\"menu\" href=\"category_10\">新知</a></li>\\n                <li  class=\"nav \" ><a class=\"menu\" href=\"category_1\">社会</a></li>\\n                <li  class=\"nav \" ><a class=\"menu\" href=\"category_2\">世界</a></li>\\n                <li  class=\"nav \" ><a class=\"menu\" href=\"category_9\">体育</a></li>\\n                <li  class=\"nav \" ><a class=\"menu\" href=\"category_5\">生活</a></li>\\n                <li class=\"nav current \" id=\"select\" ><a class=\"menu\" href=\"category_8\">科技</a></li>\\n                <li  class=\"nav \" ><a class=\"menu\" href=\"category_4\">娱乐</a></li>\\n                <li  class=\"nav \" ><a class=\"menu\" href=\"category_3\">财富</a></li>\\n                <li  class=\"nav \" ><a class=\"menu\" href=\"category_31\">汽车</a></li>\\n                <li  class=\"nav drop1\" ><a class=\"menu\" href=\"category_6\">美食</a></li>\\n                <li  class=\"nav drop2\" ><a class=\"menu\" href=\"category_59\">音乐</a></li>\\n                <li  class=\"nav drop3\" ><a class=\"menu\" href=\"shooters\">拍客</a></li>\\n                <li  class=\"nav drop4\" ><a class=\"menu\" href=\"panorama\">万象</a></li>\\n                <li  class=\"nav drop9 ctrmax\" ><a class=\"menu\" href=\"popular\">排行榜</a></li>\\n                <li class=\"nav head-more pcshow padhide\">\\n                    <a class=\"head-more-bt\" href=\"javascript:;\" id=\"headMore\">更多</a>\\n                    <ul class=\"head-more-bd\">\\n                        <li  class=\"drop1\" ><a class=\"menu\" href=\"category_6\">美食</a></li>\\n                        <li  class=\"drop2\" ><a class=\"menu\" href=\"category_59\">音乐</a></li>\\n                        <li  class=\"drop3\" ><a class=\"menu\" href=\"shooters\">拍客</a></li>\\n                        <li  class=\"drop4\" ><a class=\"menu\" href=\"panorama\">万象</a></li>\\n                        <li  class=\"drop9\" ><a class=\"menu\" href=\"popular\">排行榜</a></li>\\n                        </ul>\\n                </li>\\n            </ul>\\n\\t</div>\\n\\t<div class=\"nav-rt\">\\n            <ul class=\"nav-info clearfix\">\\n                <li class=\"act-app\">\\n                    <a href=\"http://www.pearvideo.com/download?id=3\" id=\"actApp\" data-id=\"3\"  target=\"_blank\" >下载APP</a>\\n                    <div class=\"nav-tips\">\\n                        <div class=\"nav-tipsbd nav-appdown\">\\n                            <div class=\"nav-qrctit\">梨视频APP下载</div>\\n                            <div class=\"nav-qrcabs\">\\n                                <a href=\"https://itunes.apple.com/cn/app/id1165731962?mt=8\" class=\"qrcabs-ios\" target=\"_blank\">iPhone</a>\\n                                <a href=\"http://www.pearvideo.com/download?id=3\" class=\"qrcabs-android\" target=\"_blank\">Android</a>\\n                            </div>\\n                            <a href=\"http://www.pearvideo.com/download?id=3\" class=\"nav-qrcimg\" target=\"_blank\"><img src=\"//page.pearvideo.com/webres/img/qr160_download3.png\" alt=\"梨视频APP二维码\"></a>\\n                        </div>\\n                    </div>\\n                </li>\\n                <li class=\"act-search\"><a href=\"javascript:showSearchDiv();\" id=\"actSearch\"></a></li>\\n\\t\\t<li class=\"act-user padshow\">\\n                    <a href=\"javascript:;\" id=\"actLogout\"></a>\\n                    <div class=\"nav-tips\">\\n                        <div class=\"nav-tipsbd nav-userinfo\">\\n                            <div class=\"nav-logtips\">您还没有登录</div>\\n                            <a onclick=\"showLoginDiv();\" href=\"javascript:;\" class=\"nav-logbt\">登录</a>\\n                            <div class=\"nav-otherlog\">\\n                                <a href=\"javascript:societylogin(\\'WEIXIN\\');\" class=\"nav-logwx\"></a>\\n                                <a href=\"javascript:societylogin(\\'TENCENT\\');\" class=\"nav-logqq\"></a>\\n                                <a href=\"javascript:societylogin(\\'SINA\\');\" class=\"nav-logwb\"></a>\\n                            </div>\\n                            <div class=\"nav-logtoreg\">还没有帐号？<a href=\"javascript:showRegFirstDiv();\">注册</a></div>\\n                            <a href=\"join\" class=\"log-videopartner pcshow padhide\">梨视频号入驻</a>\\n                        </div>\\n                    </div>\\n                </li>\\n\\t\\t</ul>\\n        </div>\\n    </div>\\n</div></div>\\n\\n<div class=\"category-main cmmain\">\\n    <h1 class=\"category-title\">科技<span>TECH</span><a href=\"popular_8\" class=\"rtto-popular pcshow padhide\">排行榜</a></h1>\\n    <h2 class=\"ctitle-hd category-hot\"><div class=\"ctitle-name\">最热</div></h2>\\n    <div class=\"category-top\">\\n            <div class=\"listvideo-list-bd\" id=\"listvideoList\">\\n                <ul class=\"listvideo-list clearfix\" id=\"listvideoListUl\">\\n                <li class=\"categoryem \">\\n                        <div class=\"vervideo-bd\">\\n                            <a href=\"video_1591204\" class=\"vervideo-lilink actplay\">\\n                                <div class=\"vervideo-img\" >\\n                                    <div class=\"verimg-view\"><div  class=\"img\" style=\"background-image: url(http://image2.pearvideo.com/cont/20190815/cont-1591204-12089543.jpg);\"></div></div>\\n                                    <div class=\"cm-duration\">01:24</div>\\n                                    </div>\\n                                <div class=\"vervideo-title\">科学家提纯出比钢铁“硬”的蜘蛛丝</div>\\n                            </a>\\n                            <div class=\"actcont-auto\">\\n                                <a href=\"author_10477784\" class=\"column\">拾分寻趣</a>\\n\\t\\t\\t\\t<span class=\"fav\" data-id=\"1591204\">0</span>\\n                            </div>\\n                        </div>\\n                     </li>\\n                <li class=\"categoryem \">\\n                        <div class=\"vervideo-bd\">\\n                            <a href=\"video_1591613\" class=\"vervideo-lilink actplay\">\\n                                <div class=\"vervideo-img\" >\\n                                    <div class=\"verimg-view\"><div  class=\"img\" style=\"background-image: url(http://image1.pearvideo.com/cont/20190816/10097838-172523-1.png);\"></div></div>\\n                                    <div class=\"cm-duration\">01:38</div>\\n                                    </div>\\n                                <div class=\"vervideo-title\">荷兰的“网红公厕”，建在地下</div>\\n                            </a>\\n                            <div class=\"actcont-auto\">\\n                                <a href=\"author_10097838\" class=\"column\">知闻网</a>\\n\\t\\t\\t\\t<span class=\"fav\" data-id=\"1591613\">0</span>\\n                            </div>\\n                        </div>\\n                     </li>\\n                <li class=\"categoryem \">\\n                        <div class=\"vervideo-bd\">\\n                            <a href=\"video_1591012\" class=\"vervideo-lilink actplay\">\\n                                <div class=\"vervideo-img\" >\\n                                    <div class=\"verimg-view\"><div  class=\"img\" style=\"background-image: url(http://image2.pearvideo.com/cont/20190815/cont-1591012-12088805.jpg);\"></div></div>\\n                                    <div class=\"cm-duration\">00:57</div>\\n                                    </div>\\n                                <div class=\"vervideo-title\">美国五大科技巨头均承认监听用户</div>\\n                            </a>\\n                            <div class=\"actcont-auto\">\\n                                <a href=\"author_11549078\" class=\"column\">公司联播</a>\\n\\t\\t\\t\\t<span class=\"fav\" data-id=\"1591012\">120</span>\\n                            </div>\\n                        </div>\\n                     </li>\\n                <li class=\"categoryem none wapshow\">\\n                        <div class=\"vervideo-bd\">\\n                            <a href=\"video_1590988\" class=\"vervideo-lilink actplay\">\\n                                <div class=\"vervideo-img\" >\\n                                    <div class=\"verimg-view\"><div  class=\"img\" style=\"background-image: url(http://image.pearvideo.com/cont/20190815/13182825-155605-1.png);\"></div></div>\\n                                    <div class=\"cm-duration\">01:52</div>\\n                                    </div>\\n                                <div class=\"vervideo-title\">第140课：人物定格分身效果</div>\\n                            </a>\\n                            <div class=\"actcont-auto\">\\n                                <a href=\"author_13182825\" class=\"column\">阿勇PR</a>\\n\\t\\t\\t\\t<span class=\"fav\" data-id=\"1590988\">0</span>\\n                            </div>\\n                        </div>\\n                     </li>\\n                </ul>\\n            </div>\\n    </div>\\n    <h2 class=\"ctitle-hd category-new\">\\n        <div class=\"ctitle-name\">最新</div>\\n        <div class=\"ctitle-tag toggle-hide\">\\n        <a href=\"tag_55\">黑科技</a>\\n            <a href=\"tag_55886\">AI互联</a>\\n            <div class=\"ctitle-tag-toggle\" id=\"ctitleTagToggle\"></div>\\n            <div class=\"ctitle-tag-more\">\\n            <a href=\"tag_20333\">科技产品</a>\\n            </div>\\n            </div>\\n        </h2>\\n    <ul class=\"category-list clearfix\" id=\"categoryList\">\\n        <li class=\"categoryem\">\\n            <div class=\"vervideo-bd\">\\n                <a href=\"video_1590988\" class=\"vervideo-lilink actplay\">\\n                    <div class=\"vervideo-img\" >\\n                        <div class=\"verimg-view\"><div  class=\"img\" style=\"background-image: url(http://image.pearvideo.com/cont/20190815/13182825-155605-1.png);\"></div></div>\\n                        <div class=\"cm-duration\">01:52</div>\\n\\t\\t\\t</div>\\n                    <div class=\"vervideo-title\">第140课：人物定格分身效果</div>\\n                </a>\\n                <div class=\"actcont-auto\">\\n                    <a href=\"author_13182825\" class=\"column\">阿勇PR</a>\\n                    <span class=\"fav\" data-id=\"1590988\">0</span>\\n                </div>\\n            </div>\\n        </li>\\n\\t<li class=\"categoryem\">\\n            <div class=\"vervideo-bd\">\\n                <a href=\"video_1590850\" class=\"vervideo-lilink actplay\">\\n                    <div class=\"vervideo-img\" >\\n                        <div class=\"verimg-view\"><div  class=\"img\" style=\"background-image: url(http://image.pearvideo.com/cont/20190815/cont-1590850-12088269.jpg);\"></div></div>\\n                        <div class=\"cm-duration\">01:33</div>\\n\\t\\t\\t</div>\\n                    <div class=\"vervideo-title\">假肢界的黑科技，可以让残疾人慢跑</div>\\n                </a>\\n                <div class=\"actcont-auto\">\\n                    <a href=\"author_10097838\" class=\"column\">知闻网</a>\\n                    <span class=\"fav\" data-id=\"1590850\">0</span>\\n                </div>\\n            </div>\\n        </li>\\n\\t<li class=\"categoryem\">\\n            <div class=\"vervideo-bd\">\\n                <a href=\"video_1590840\" class=\"vervideo-lilink actplay\">\\n                    <div class=\"vervideo-img\" >\\n                        <div class=\"verimg-view\"><div  class=\"img\" style=\"background-image: url(http://image2.pearvideo.com/cont/20190815/cont-1590840-12088202.png);\"></div></div>\\n                        <div class=\"cm-duration\">00:56</div>\\n\\t\\t\\t</div>\\n                    <div class=\"vervideo-title\">华为在加拿大启动6G网络研究</div>\\n                </a>\\n                <div class=\"actcont-auto\">\\n                    <a href=\"author_11549078\" class=\"column\">公司联播</a>\\n                    <span class=\"fav\" data-id=\"1590840\">562</span>\\n                </div>\\n            </div>\\n        </li>\\n\\t<li class=\"categoryem\">\\n            <div class=\"vervideo-bd\">\\n                <a href=\"video_1590596\" class=\"vervideo-lilink actplay\">\\n                    <div class=\"vervideo-img\" >\\n                        <div class=\"verimg-view\"><div  class=\"img\" style=\"background-image: url(http://image2.pearvideo.com/cont/20190814/cont-1590596-12087221.jpg);\"></div></div>\\n                        <div class=\"cm-duration\">00:32</div>\\n\\t\\t\\t</div>\\n                    <div class=\"vervideo-title\">富士康员工爆料：iPhone增加墨绿色</div>\\n                </a>\\n                <div class=\"actcont-auto\">\\n                    <a href=\"author_11549103\" class=\"column\">老板联播</a>\\n                    <span class=\"fav\" data-id=\"1590596\">215</span>\\n                </div>\\n            </div>\\n        </li>\\n\\t<li class=\"categoryem\">\\n            <div class=\"vervideo-bd\">\\n                <a href=\"video_1590414\" class=\"vervideo-lilink actplay\">\\n                    <div class=\"vervideo-img\" >\\n                        <div class=\"verimg-view\"><div  class=\"img\" style=\"background-image: url(http://image.pearvideo.com/cont/20190814/cont-1590414-12086586.jpg);\"></div></div>\\n                        <div class=\"cm-duration\">01:28</div>\\n\\t\\t\\t</div>\\n                    <div class=\"vervideo-title\">Apple Card实体卡：无卡号只刻名字</div>\\n                </a>\\n                <div class=\"actcont-auto\">\\n                    <a href=\"author_11549078\" class=\"column\">公司联播</a>\\n                    <span class=\"fav\" data-id=\"1590414\">118</span>\\n                </div>\\n            </div>\\n        </li>\\n\\t<li class=\"categoryem\">\\n            <div class=\"vervideo-bd\">\\n                <a href=\"video_1590338\" class=\"vervideo-lilink actplay\">\\n                    <div class=\"vervideo-img\" >\\n                        <div class=\"verimg-view\"><div  class=\"img\" style=\"background-image: url(http://image1.pearvideo.com/cont/20190814/cont-1590338-12086323.jpg);\"></div></div>\\n                        <div class=\"cm-duration\">01:24</div>\\n\\t\\t\\t</div>\\n                    <div class=\"vervideo-title\">美国禁止被召回Macbook机型上飞机</div>\\n                </a>\\n                <div class=\"actcont-auto\">\\n                    <a href=\"author_11549078\" class=\"column\">公司联播</a>\\n                    <span class=\"fav\" data-id=\"1590338\">769</span>\\n                </div>\\n            </div>\\n        </li>\\n\\t<li class=\"categoryem\">\\n            <div class=\"vervideo-bd\">\\n                <a href=\"video_1589967\" class=\"vervideo-lilink actplay\">\\n                    <div class=\"vervideo-img\" >\\n                        <div class=\"verimg-view\"><div  class=\"img\" style=\"background-image: url(http://image1.pearvideo.com/cont/20190813/cont-1589967-12084961.jpg);\"></div></div>\\n                        <div class=\"cm-duration\">01:53</div>\\n\\t\\t\\t</div>\\n                    <div class=\"vervideo-title\">第138课：pr制作海浪冲刷文字效果</div>\\n                </a>\\n                <div class=\"actcont-auto\">\\n                    <a href=\"author_13182825\" class=\"column\">阿勇PR</a>\\n                    <span class=\"fav\" data-id=\"1589967\">66</span>\\n                </div>\\n            </div>\\n        </li>\\n\\t<li class=\"categoryem\">\\n            <div class=\"vervideo-bd\">\\n                <a href=\"video_1589889\" class=\"vervideo-lilink actplay\">\\n                    <div class=\"vervideo-img\" >\\n                        <div class=\"verimg-view\"><div  class=\"img\" style=\"background-image: url(http://image.pearvideo.com/cont/20190813/cont-1589889-12084642.jpg);\"></div></div>\\n                        <div class=\"cm-duration\">01:00</div>\\n\\t\\t\\t</div>\\n                    <div class=\"vervideo-title\">盖茨的核公司正在开发下一代核技术</div>\\n                </a>\\n                <div class=\"actcont-auto\">\\n                    <a href=\"author_11549078\" class=\"column\">公司联播</a>\\n                    <span class=\"fav\" data-id=\"1589889\">244</span>\\n                </div>\\n            </div>\\n        </li>\\n\\t<li class=\"categoryem\">\\n            <div class=\"vervideo-bd\">\\n                <a href=\"video_1589762\" class=\"vervideo-lilink actplay\">\\n                    <div class=\"vervideo-img\" >\\n                        <div class=\"verimg-view\"><div  class=\"img\" style=\"background-image: url(http://image2.pearvideo.com/cont/20190813/10037108-035042-1.png);\"></div></div>\\n                        <div class=\"cm-duration\">00:45</div>\\n\\t\\t\\t</div>\\n                    <div class=\"vervideo-title\">这台聪明的AI机器人可以学会新动作</div>\\n                </a>\\n                <div class=\"actcont-auto\">\\n                    <a href=\"author_10037108\" class=\"column\">NowThis</a>\\n                    <span class=\"fav\" data-id=\"1589762\">308</span>\\n                </div>\\n            </div>\\n        </li>\\n\\t</ul>\\n    <div class=\"listloadmore\"><a href=\"javascript:loadnextpage();\" id=\"listLoadMore\" data-disabled=\"true\" data-nextpage=\"true\" data-start=\"12\" data-hotId=\"1591204,1591613,1591012\" data-prevId=\"1590988,1590850,1590840,1590596,1590414,1590338,1589967,1589889,1589762\">加载更多</a></div>\\n        </div>\\n\\n<input type=\"hidden\" id=\"timestamp\" value=\"1565952402689\">\\n<script type=\"text/javascript\">\\nvar categoryId = \"8\";\\nvar reqType = \"5\";\\nvar localStorageName = \"localCategoryKeys\";\\nvar localScrollTop = \"categoryscrollTop\";\\nvar localtimestamp = \"categorytimestamp\";\\n</script>\\n<script type=\"text/javascript\" src=\"js/category.js?v=4.75\"></script>\\n<script type=\"text/javascript\" src=\"js/loadnextpage.js?v=4.75\"></script>\\n<div class=\"bottom\">\\n\\t<div class=\"bottom-bd\">\\n<div class=\"bottom-content padshow\">\\n\\t\\t\\t<span>京网文[2017]10577-1243号</span><span>京ICP备16047887号-1</span><span>京公网安备 11010502032271号</span><span>广播电视节目制作经营许可证（京）字第07532号</span>\\n\\t\\t</div>\\n\\t\\t<div class=\"bottom-content padshow\">\\n\\t\\t\\t<a href=\"http://www.12377.cn/\" target=\"_blank\">中国互联网举报中心</a><span>违法和不良信息举报电话：010-80698043</span><span>举报邮箱：legal_department@pearvideo.com</span>\\n\\t\\t</div>\\n\\t\\t<div class=\"bottom-links padshow\">\\n\\t\\t\\t<a href=\"aboutus.jsp\" target=\"_blank\">关于我们</a>\\n\\t\\t\\t<span></span>\\n\\t\\t\\t<a href=\"contactus.jsp\" target=\"_blank\">联系我们</a>\\n\\t\\t\\t<span></span>\\n\\t\\t\\t<a href=\"copyright.jsp\" target=\"_blank\">版权声明</a>\\n\\t\\t\\t<span></span>\\n\\t\\t\\t<a href=\"useragreement.jsp\" target=\"_blank\">用户协议</a>\\n\\t\\t\\t<span></span>\\n\\t\\t\\t<a href=\"privacy_policy.jsp\" target=\"_blank\">隐私政策</a>\\n\\t\\t\\t<span></span>\\n\\t\\t<a href=\"join\" target=\"_blank\" class=\"pcshow padhide\">梨视频号</a>\\n\\t\\t\\t<span class=\"pcshow padhide\"></span>\\n\\t\\t<a href=\"workus.jsp\" target=\"_blank\">工作机会</a>\\n\\t\\t\\t<span></span>\\n\\t\\t\\t<a href=\"adservice.jsp\" target=\"_blank\">广告服务</a>\\n\\t\\t\\t<span></span>\\n\\t\\t\\t<a href=\"partner.jsp\" target=\"_blank\">合作伙伴</a>\\n\\t\\t\\t<span></span>\\n\\t\\t\\t<a href=\"attentionus.jsp\" target=\"_blank\">关注我们</a>\\n\\t\\t</div>\\n\\t\\t<div class=\"bottom-links padshow\">\\n\\t\\t\\t<a href=\"https://stringer.pearvideo.com/\" target=\"_blank\">Pear Video International</a>\\n\\t\\t\\t<span></span>\\n\\t\\t\\t<a href=\"https://banquan.pearvideo.com/\" target=\"_blank\">版权销售平台</a>\\n\\t\\t\\t<span></span>\\n\\t\\t\\t<a href=\"https://footage.pearvideo.com/\" target=\"_blank\">Content Licensing</a>\\n\\t\\t\\t<span></span>\\n\\t\\t\\t<a href=\"https://story.pearvideo.com/\" target=\"_blank\">梨视频故事库</a>\\n\\t\\t</div>\\n\\t\\t<div class=\"bottom-copyright padshow\">\\n\\t\\t\\t<span>北京微然网络科技有限公司</span><span>北京市朝阳区建国门外大街永安东里甲3号德润大厦2307室</span><span>电话：010-80698289</span>\\n\\t\\t</div>\\n<div class=\"bottom-copyright\">\\n\\t\\t\\t<span>Copyright © 2016-2019 Pearvideo. All Rights Reserved.</span><span>梨视频 版权所有</span>\\n\\t\\t</div>\\n<div id=\"anquanLogo\" class=\"bottom-anquan pcshow\">\\n\\t\\t\\t<span><img src=\"//page.pearvideo.com/webres/img/internet_culture173.png\" /></span>\\n\\t\\t\\t<a href=\"http://www.bjjubao.org/\" target=\"_blank\"><img src=\"//page.pearvideo.com/webres/img/bjjubao179.png\" /></a>\\n\\t\\t\\t<a id=\"_pingansec_bottomimagelarge_brand\" href=\"http://si.trustutn.org/info?sn=839161201025837457735&certType=1\" target=\"_blank\"><img src=\"//v.trustutn.org/images/cert/brand_bottom_large.jpg\"/></a>\\n\\t\\t\\t<a id=\\'___szfw_logo___\\' href=\\'https://credit.szfw.org/CX20190724035356862812.html\\' target=\\'_blank\\'><img src=\\'https://icon.cecdc.com/sf.png\\' border=\\'0\\' /></a>\\n\\t\\t</div>\\n\\t\\t<div class=\"bottom-appdown pcshow padhide\">\\n\\t\\t\\t<a href=\"http://www.pearvideo.com/download?id=4\" class=\"bt-qrcimg\" target=\"_blank\"><img src=\"//page.pearvideo.com/webres/img/qr160_download4.png\" alt=\"梨视频APP二维码\"></a>\\n\\t\\t\\t<div class=\"bt-qrctit\">下载APP</div>\\n\\t\\t\\t<div class=\"bt-qrcabs\">\\n\\t\\t\\t\\t<a href=\"https://itunes.apple.com/cn/app/id1165731962?mt=8\" target=\"_blank\">iPhone</a><span>|</span><a href=\"http://www.pearvideo.com/download?id=4\" target=\"_blank\">Android</a>\\n\\t\\t\\t</div>\\n\\t\\t</div>\\n</div>\\n</div>\\n<div id=\"popup_box\" style=\"display:none;\"></div>\\n<script type=\"text/javascript\">\\ndocument.onkeydown=function(event){ \\n  var e = event || window.event || arguments.callee.caller.arguments[0]; \\n  if(e && e.keyCode==27){\\n    if($(\".pop-dialog\").length > 0 && $(\"#msgDetail\").length == 0 && $(\"#j-income-explain-box\").length == 0){\\n      $(\".pop-dialog\").slideUp().siblings(\".pop-overlay\").fadeOut(function(){\\n        $(\".pop-wrap\").hide();\\n      });\\n    }\\n    $(\"#popup_box\").empty();\\n    $(\"body\").removeClass(\"openbarshow pad-style pop-bd\");\\n  } \\n};\\ntry{\\n  setHeadRedMark();\\t\\n}catch(e){}\\nvar _hmt = _hmt || [];\\n(function() {\\n  var hm = document.createElement(\"script\");\\n  hm.src = \"https://hm.baidu.com/hm.js?9707bc8d5f6bba210e7218b8496f076a\";\\n  hm.async = true;\\n  var s = document.getElementsByTagName(\"script\")[0]; \\n  s.parentNode.insertBefore(hm, s);\\n})();\\nvar cnzz_protocol = ((\"https:\" == document.location.protocol) ? \" https://\" : \" http://\");document.write(unescape(\"%3Cspan id=\\'cnzz_stat_icon_1260553744\\'%3E%3C/span%3E%3Cscript async src=\\'\" + cnzz_protocol + \"s4.cnzz.com/z_stat.php%3Fid%3D1260553744\\' type=\\'text/javascript\\'%3E%3C/script%3E\"));\\n\\n(function(){document.getElementById(\\'___szfw_logo___\\').oncontextmenu = function(){return false;}})();\\n</script>\\n</body>\\n</html>'"
      ]
     },
     "execution_count": 3,
     "metadata": {},
     "output_type": "execute_result"
    }
   ],
   "source": [
    "res.text"
   ]
  },
  {
   "cell_type": "code",
   "execution_count": 4,
   "metadata": {},
   "outputs": [],
   "source": [
    "#lxml是一个专门用于解析xml语言的库\n",
    "from lxml import etree"
   ]
  },
  {
   "cell_type": "markdown",
   "metadata": {},
   "source": [
    "### 把网页变成xpath结构"
   ]
  },
  {
   "cell_type": "code",
   "execution_count": 50,
   "metadata": {},
   "outputs": [],
   "source": [
    "res_xpath = etree.HTML(res.text)"
   ]
  },
  {
   "cell_type": "code",
   "execution_count": 51,
   "metadata": {},
   "outputs": [
    {
     "data": {
      "text/plain": [
       "<Element html at 0x1ffafebe4c8>"
      ]
     },
     "execution_count": 51,
     "metadata": {},
     "output_type": "execute_result"
    }
   ],
   "source": [
    "res_xpath"
   ]
  },
  {
   "cell_type": "code",
   "execution_count": 52,
   "metadata": {},
   "outputs": [
    {
     "data": {
      "text/plain": [
       "lxml.etree._Element"
      ]
     },
     "execution_count": 52,
     "metadata": {},
     "output_type": "execute_result"
    }
   ],
   "source": [
    "type(res_xpath)"
   ]
  },
  {
   "cell_type": "markdown",
   "metadata": {},
   "source": [
    "### /text提取文字"
   ]
  },
  {
   "cell_type": "code",
   "execution_count": 53,
   "metadata": {},
   "outputs": [
    {
     "data": {
      "text/plain": [
       "['科技热点资讯短视频_科技热点新闻-梨视频官网-Pear Video']"
      ]
     },
     "execution_count": 53,
     "metadata": {},
     "output_type": "execute_result"
    }
   ],
   "source": [
    "res_xpath.xpath('/html/head/title/text()')#绝对路径提取"
   ]
  },
  {
   "cell_type": "code",
   "execution_count": 54,
   "metadata": {},
   "outputs": [
    {
     "data": {
      "text/plain": [
       "['科技热点资讯短视频_科技热点新闻-梨视频官网-Pear Video']"
      ]
     },
     "execution_count": 54,
     "metadata": {},
     "output_type": "execute_result"
    }
   ],
   "source": [
    "res_xpath.xpath('//title/text()')#相对路径提取"
   ]
  },
  {
   "cell_type": "markdown",
   "metadata": {},
   "source": [
    "### 指定属性进行提取"
   ]
  },
  {
   "cell_type": "code",
   "execution_count": 55,
   "metadata": {},
   "outputs": [
    {
     "data": {
      "text/plain": [
       "['首页']"
      ]
     },
     "execution_count": 55,
     "metadata": {},
     "output_type": "execute_result"
    }
   ],
   "source": [
    "res_xpath.xpath('//a[@class=\"menu\" and @href=\"/\"]/text()')"
   ]
  },
  {
   "cell_type": "markdown",
   "metadata": {},
   "source": [
    "### 提取属性"
   ]
  },
  {
   "cell_type": "code",
   "execution_count": 91,
   "metadata": {},
   "outputs": [
    {
     "data": {
      "text/plain": [
       "['荷兰的“网红公厕”，建在地下']"
      ]
     },
     "execution_count": 91,
     "metadata": {},
     "output_type": "execute_result"
    }
   ],
   "source": [
    "res_xpath.xpath('//*[@id=\"listvideoListUl\"]/li[1]//div[@class=\"vervideo-title\"]/text()')"
   ]
  },
  {
   "cell_type": "code",
   "execution_count": 92,
   "metadata": {},
   "outputs": [
    {
     "data": {
      "text/plain": [
       "['美国五大科技巨头均承认监听用户']"
      ]
     },
     "execution_count": 92,
     "metadata": {},
     "output_type": "execute_result"
    }
   ],
   "source": [
    "res_xpath.xpath('//*[@id=\"listvideoListUl\"]/li[2]//div[@class=\"vervideo-title\"]/text()')"
   ]
  },
  {
   "cell_type": "code",
   "execution_count": 106,
   "metadata": {},
   "outputs": [
    {
     "name": "stdout",
     "output_type": "stream",
     "text": [
      "['video_1591596']\n",
      "['video_1590988']\n",
      "['video_1590850']\n",
      "['video_1590840']\n",
      "['video_1590596']\n",
      "['video_1590414']\n",
      "['video_1590338']\n",
      "['video_1589967']\n",
      "['video_1589889']\n"
     ]
    }
   ],
   "source": [
    "for li in res_xpath.xpath('//ul[@class=\"category-list clearfix\" and @id=\"categoryList\"]/li'):\n",
    "    print(li.xpath('./div/a/@href'))"
   ]
  },
  {
   "cell_type": "code",
   "execution_count": 1,
   "metadata": {},
   "outputs": [],
   "source": [
    "import requests\n",
    "res= requests.get(\"http://www.bcactc.com/home/gcxx/zbjggs_show.aspx?gcbh=108F0SG201900080\")\n",
    "from lxml import etree\n",
    "html = etree.HTML(res.text)\n",
    "result = {}\n",
    "result['number'] = html.xpath('//table[@class=\"hei_text\"]//tr[2]/td[2]/text()')[0].strip()\n",
    "s1 = html.xpath('//table[@class=\"hei_text\"]//tr')\n",
    "result={}\n",
    "for s1_xpath in s1[1:8]:\n",
    "    name = s1_xpath.xpath('./td[1]/text()')[0].strip()\n",
    "    item = s1_xpath.xpath('./td[2]/text()')[0].strip()\n",
    "    result[name]=item"
   ]
  },
  {
   "cell_type": "code",
   "execution_count": 2,
   "metadata": {},
   "outputs": [
    {
     "data": {
      "text/plain": [
       "{'工程编号': '108F0SG201900080',\n",
       " '建设单位名称': '北京市公安局海淀分局',\n",
       " '工程名称': '看守所（五型）监室改造经费',\n",
       " '建设地点': '北京市公安局海淀分局看守所院内',\n",
       " '中标人': '北京华尊装饰工程有限责任公司',\n",
       " '中标价(元)': '5726913.27',\n",
       " '公示开始时间': '2019-8-16'}"
      ]
     },
     "execution_count": 2,
     "metadata": {},
     "output_type": "execute_result"
    }
   ],
   "source": [
    "result"
   ]
  },
  {
   "cell_type": "code",
   "execution_count": null,
   "metadata": {},
   "outputs": [],
   "source": []
  }
 ],
 "metadata": {
  "kernelspec": {
   "display_name": "Python 3",
   "language": "python",
   "name": "python3"
  },
  "language_info": {
   "codemirror_mode": {
    "name": "ipython",
    "version": 3
   },
   "file_extension": ".py",
   "mimetype": "text/x-python",
   "name": "python",
   "nbconvert_exporter": "python",
   "pygments_lexer": "ipython3",
   "version": "3.7.3"
  }
 },
 "nbformat": 4,
 "nbformat_minor": 2
}
